{
 "cells": [
  {
   "cell_type": "markdown",
   "metadata": {},
   "source": [
    "Bank \n",
    "init : name, id\n",
    "method : balance add , withdraw, take loan , pay loan\n",
    "     "
   ]
  },
  {
   "cell_type": "code",
   "execution_count": 24,
   "metadata": {},
   "outputs": [],
   "source": [
    "#why use self"
   ]
  },
  {
   "cell_type": "code",
   "execution_count": 124,
   "metadata": {},
   "outputs": [],
   "source": [
    "class Bank:\n",
    "    \"\"\" This is a Blue print of class Bank\n",
    "        This class is used to simple bank related transaction\n",
    "         methods: \n",
    "         ---------------\n",
    "         init -> This method take 3 parameters i.e self, name and cid\n",
    "                 name is the name of customer, cid is the id given to customer\n",
    "                 \n",
    "         deposit-> This method is used to deposit amount in the customers' account. \n",
    "                    It takes 2 parameters. Self and x, where x is the amount of money deposited\n",
    "                    \n",
    "         withdraw-> This method is used to withdraw amount from the customers' account.\n",
    "                    It takes 2 parameters. Self and x, where x is the amount of money withdrawn.\n",
    "                    \n",
    "         takeloan-> This method is used to take loan from the Bank.\n",
    "                    It takes 2 parameters. Self and x, where x is the amount of money taken as loan.\n",
    "                    \n",
    "         payloan-> This method is used to pay loan amount due to the Bank.\n",
    "                    It takes 2 parameters. Self and x, where x is the amount of money paid as loan payemnt to the bank.\n",
    "    \"\"\"\n",
    "    def __init__(self, name , cid, balance = 0.0,loandue=0.0, loanpay=0.0):\n",
    "        self.name = name\n",
    "        self.id = cid\n",
    "        self.balance = balance\n",
    "        self.loandue = loandue\n",
    "        self.loanpay = loanpay\n",
    "    def deposit(self, x):\n",
    "        print(\"{0} has deposited ${1}\".format(self.name,x))\n",
    "        self.balance += x\n",
    "        return self.balance\n",
    "    def withdraw(self, x):\n",
    "        if x > self.balance:\n",
    "            print(\"not Enough balance in the account of {0}\".format(self.name))\n",
    "        else:\n",
    "            self.balance -= x\n",
    "            print(\"self.balance\", self.balance)\n",
    "            print(\"{0} has withdrawn ${1}\".format(self.name,x))\n",
    "            return self.balance\n",
    "    def takeloan(self, x):\n",
    "        print(\"{0} has loan due ${1}\".format(self.name,x))\n",
    "        self.loandue += x\n",
    "        return self.loandue\n",
    "    def payloan(self, x):\n",
    "        if x == 0.0:\n",
    "            print(\"no amount paid\")\n",
    "            self.loanpay = x\n",
    "            return self.loanpay\n",
    "        else:\n",
    "            print(\"{0} has paid ${1} as loan payment\".format(self.name,x))\n",
    "            self.loanpay -= x\n",
    "            return self.loanpay\n",
    "    def summary(self):\n",
    "        return self.name, self.balance, self.loandue, self.loanpay\n",
    "        \n",
    "        \n",
    "    "
   ]
  },
  {
   "cell_type": "code",
   "execution_count": 125,
   "metadata": {},
   "outputs": [
    {
     "name": "stdout",
     "output_type": "stream",
     "text": [
      "Subash has deposited $100\n",
      "self.balance 80.0\n",
      "Subash has withdrawn $20\n",
      "Subash has loan due $50\n",
      "Subash has paid $10 as loan payment\n"
     ]
    },
    {
     "data": {
      "text/plain": [
       "('Subash', 80.0, 50.0, -10.0)"
      ]
     },
     "execution_count": 125,
     "metadata": {},
     "output_type": "execute_result"
    }
   ],
   "source": [
    "tran1 = Bank(\"Subash\", \"c001\")\n",
    "tran1.deposit(100)\n",
    "tran1.withdraw(20)\n",
    "tran1.takeloan(50)\n",
    "tran1.payloan(10)\n",
    "tran1.summary()"
   ]
  },
  {
   "cell_type": "code",
   "execution_count": 126,
   "metadata": {},
   "outputs": [
    {
     "name": "stdout",
     "output_type": "stream",
     "text": [
      "John has deposited $200\n",
      "not Enough balance in the account of John\n",
      "John has loan due $60\n",
      "John has paid $30 as loan payment\n"
     ]
    },
    {
     "data": {
      "text/plain": [
       "('John', 200.0, 60.0, -30.0)"
      ]
     },
     "execution_count": 126,
     "metadata": {},
     "output_type": "execute_result"
    }
   ],
   "source": [
    "tran2 = Bank(\"John\", \"c002\")\n",
    "tran2.deposit(200)\n",
    "tran2.withdraw(300)\n",
    "tran2.takeloan(60)\n",
    "tran2.payloan(30)\n",
    "tran2.summary()"
   ]
  },
  {
   "cell_type": "code",
   "execution_count": 127,
   "metadata": {},
   "outputs": [
    {
     "data": {
      "text/plain": [
       "\" This is a Blue print of class Bank\\n        This class is used to simple bank related transaction\\n         methods: \\n         ---------------\\n         init -> This method take 3 parameters i.e self, name and cid\\n                 name is the name of customer, cid is the id given to customer\\n                 \\n         deposit-> This method is used to deposit amount in the customers' account. \\n                    It takes 2 parameters. Self and x, where x is the amount of money deposited\\n                    \\n         withdraw-> This method is used to withdraw amount from the customers' account.\\n                    It takes 2 parameters. Self and x, where x is the amount of money withdrawn.\\n                    \\n         takeloan-> This method is used to take loan from the Bank.\\n                    It takes 2 parameters. Self and x, where x is the amount of money taken as loan.\\n                    \\n         payloan-> This method is used to pay loan amount due to the Bank.\\n                    It takes 2 parameters. Self and x, where x is the amount of money paid as loan payemnt to the bank.\\n    \""
      ]
     },
     "execution_count": 127,
     "metadata": {},
     "output_type": "execute_result"
    }
   ],
   "source": [
    "tran1.__doc__"
   ]
  },
  {
   "cell_type": "code",
   "execution_count": null,
   "metadata": {},
   "outputs": [],
   "source": []
  },
  {
   "cell_type": "code",
   "execution_count": null,
   "metadata": {},
   "outputs": [],
   "source": []
  }
 ],
 "metadata": {
  "kernelspec": {
   "display_name": "Python 3",
   "language": "python",
   "name": "python3"
  },
  "language_info": {
   "codemirror_mode": {
    "name": "ipython",
    "version": 3
   },
   "file_extension": ".py",
   "mimetype": "text/x-python",
   "name": "python",
   "nbconvert_exporter": "python",
   "pygments_lexer": "ipython3",
   "version": "3.6.7"
  }
 },
 "nbformat": 4,
 "nbformat_minor": 2
}
