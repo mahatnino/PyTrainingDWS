{
 "cells": [
  {
   "cell_type": "markdown",
   "metadata": {},
   "source": [
    "# Q1. We have v=u+at where v is velocity, u is initial velocity, and t is time. And value for each is as follows: v=25m/s. u=0m/s, t=10 seconds. Find the acceleration a. [Rearrange the equation, also use proper formatting syntax while displaying the answer.]"
   ]
  },
  {
   "cell_type": "code",
   "execution_count": 12,
   "metadata": {},
   "outputs": [
    {
     "name": "stdout",
     "output_type": "stream",
     "text": [
      "2.5 m/s\n"
     ]
    }
   ],
   "source": [
    "v= 25\n",
    "u =0 \n",
    "t=10\n",
    "a= (v-u)/t\n",
    "print(str(a) +\" m/s\")"
   ]
  },
  {
   "cell_type": "markdown",
   "metadata": {},
   "source": [
    "# Q2. Get first name and last name from a user and concatenate them to make a full name."
   ]
  },
  {
   "cell_type": "code",
   "execution_count": 16,
   "metadata": {},
   "outputs": [
    {
     "name": "stdout",
     "output_type": "stream",
     "text": [
      "Subash\n",
      "Mahat\n",
      "Subash Mahat\n"
     ]
    }
   ],
   "source": [
    "fname = input()\n",
    "lname = input()\n",
    "print(fname + \" \"+ lname)"
   ]
  },
  {
   "cell_type": "markdown",
   "metadata": {},
   "source": [
    "# Q3. Take an arbitrary input string from user and print it 10 times."
   ]
  },
  {
   "cell_type": "code",
   "execution_count": 31,
   "metadata": {},
   "outputs": [
    {
     "name": "stdout",
     "output_type": "stream",
     "text": [
      "apple\n",
      "apple apple apple apple apple apple apple apple apple apple \n"
     ]
    }
   ],
   "source": [
    "print((input()+\" \")*10  )"
   ]
  },
  {
   "cell_type": "markdown",
   "metadata": {},
   "source": [
    "# Q4. Override ending argument in print function to print \"**\" at the end."
   ]
  },
  {
   "cell_type": "code",
   "execution_count": 45,
   "metadata": {},
   "outputs": [
    {
     "name": "stdout",
     "output_type": "stream",
     "text": [
      "English**\n",
      "Math**\n",
      "Science**\n"
     ]
    }
   ],
   "source": [
    "list1 = [\"English\", \"Math\",  \"Science\"]\n",
    "for values in list1:\n",
    "    print(values, end='**'+ \"\\n\")"
   ]
  },
  {
   "cell_type": "markdown",
   "metadata": {},
   "source": [
    "# Q5. Write a program that takes three numbers and prints their sum. Every number is given on a separate line."
   ]
  },
  {
   "cell_type": "code",
   "execution_count": 51,
   "metadata": {},
   "outputs": [
    {
     "name": "stdout",
     "output_type": "stream",
     "text": [
      "1\n",
      "2\n",
      "3\n",
      "6\n"
     ]
    }
   ],
   "source": [
    "a = int(input())\n",
    "b = int(input())\n",
    "c = int(input())\n",
    "print(a+b+c)"
   ]
  },
  {
   "cell_type": "markdown",
   "metadata": {},
   "source": [
    "# Write a program which accepts a sequence of comma-separated numbers from console and generate a list and a tuple which contains every number. Suppose the following input is supplied to the program:\n",
    "\n",
    "34,67,55,33,12,98\n",
    "\n",
    "Then, the output should be:\n",
    "\n",
    "['34', '67', '55', '33', '12', '98']\n",
    "\n",
    "('34', '67', '55', '33', '12', '98')\n"
   ]
  },
  {
   "cell_type": "code",
   "execution_count": 60,
   "metadata": {},
   "outputs": [
    {
     "name": "stdout",
     "output_type": "stream",
     "text": [
      "34,56,67,33,69\n",
      "['34', '56', '67', '33', '69']\n",
      "('34', '56', '67', '33', '69')\n"
     ]
    }
   ],
   "source": [
    "a = list(input().split(','))\n",
    "print(a)\n",
    "print(tuple(a))"
   ]
  },
  {
   "cell_type": "markdown",
   "metadata": {},
   "source": [
    "# Write a program that accepts a sequence of whitespace separated words as input and prints the words\n",
    "\n",
    "after removing all duplicate words and sorting them alphanumerically.\n",
    "\n",
    "Suppose the following input is supplied to the program:\n",
    "\n",
    "hello world and practice makes perfect and hello world again\n",
    "\n",
    "Then, the output should be: again and hello makes perfect practice world\n"
   ]
  },
  {
   "cell_type": "code",
   "execution_count": 2,
   "metadata": {},
   "outputs": [
    {
     "name": "stdout",
     "output_type": "stream",
     "text": [
      "the apple is the best the fruit \n",
      "apple best fruit is the\n"
     ]
    }
   ],
   "source": [
    "#set can be used to remove duplicate words as set only take unique elements only\n",
    "a= set(input().split())\n",
    "#sorted() is used to sort alphanumerically\n",
    "print(' '.join(sorted(a)))"
   ]
  },
  {
   "cell_type": "code",
   "execution_count": null,
   "metadata": {},
   "outputs": [],
   "source": []
  }
 ],
 "metadata": {
  "kernelspec": {
   "display_name": "Python 3",
   "language": "python",
   "name": "python3"
  },
  "language_info": {
   "codemirror_mode": {
    "name": "ipython",
    "version": 3
   },
   "file_extension": ".py",
   "mimetype": "text/x-python",
   "name": "python",
   "nbconvert_exporter": "python",
   "pygments_lexer": "ipython3",
   "version": "3.6.7"
  }
 },
 "nbformat": 4,
 "nbformat_minor": 2
}
