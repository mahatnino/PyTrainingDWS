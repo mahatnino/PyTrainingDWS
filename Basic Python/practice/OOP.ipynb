{
 "cells": [
  {
   "cell_type": "code",
   "execution_count": 3,
   "metadata": {},
   "outputs": [],
   "source": [
    "class oop:\n",
    "    pass"
   ]
  },
  {
   "cell_type": "code",
   "execution_count": 4,
   "metadata": {},
   "outputs": [
    {
     "data": {
      "text/plain": [
       "<__main__.oop at 0x64ca1b0>"
      ]
     },
     "execution_count": 4,
     "metadata": {},
     "output_type": "execute_result"
    }
   ],
   "source": [
    "oop()"
   ]
  },
  {
   "cell_type": "code",
   "execution_count": 29,
   "metadata": {},
   "outputs": [],
   "source": [
    "class animal:\n",
    "    \"\"\"This animal class\"\"\" #doc string\n",
    "    def dog(self):\n",
    "        print(\"bark\")\n",
    "    def cat(self):\n",
    "        print(\"meow\")"
   ]
  },
  {
   "cell_type": "code",
   "execution_count": 32,
   "metadata": {},
   "outputs": [],
   "source": [
    "x = animal() #making an object of animal class"
   ]
  },
  {
   "cell_type": "code",
   "execution_count": 33,
   "metadata": {},
   "outputs": [
    {
     "name": "stdout",
     "output_type": "stream",
     "text": [
      "bark\n",
      "meow\n"
     ]
    }
   ],
   "source": [
    "x.dog()\n",
    "x.cat()"
   ]
  },
  {
   "cell_type": "code",
   "execution_count": 35,
   "metadata": {},
   "outputs": [
    {
     "data": {
      "text/plain": [
       "'This animal class'"
      ]
     },
     "execution_count": 35,
     "metadata": {},
     "output_type": "execute_result"
    }
   ],
   "source": [
    "x.__doc__ #finding out the details of the class"
   ]
  },
  {
   "cell_type": "code",
   "execution_count": 36,
   "metadata": {},
   "outputs": [],
   "source": [
    "oop.__doc__"
   ]
  },
  {
   "cell_type": "code",
   "execution_count": 39,
   "metadata": {},
   "outputs": [
    {
     "data": {
      "text/plain": [
       "['__class__',\n",
       " '__delattr__',\n",
       " '__dict__',\n",
       " '__dir__',\n",
       " '__doc__',\n",
       " '__eq__',\n",
       " '__format__',\n",
       " '__ge__',\n",
       " '__getattribute__',\n",
       " '__gt__',\n",
       " '__hash__',\n",
       " '__init__',\n",
       " '__init_subclass__',\n",
       " '__le__',\n",
       " '__lt__',\n",
       " '__module__',\n",
       " '__ne__',\n",
       " '__new__',\n",
       " '__reduce__',\n",
       " '__reduce_ex__',\n",
       " '__repr__',\n",
       " '__setattr__',\n",
       " '__sizeof__',\n",
       " '__str__',\n",
       " '__subclasshook__',\n",
       " '__weakref__',\n",
       " 'cat',\n",
       " 'dog']"
      ]
     },
     "execution_count": 39,
     "metadata": {},
     "output_type": "execute_result"
    }
   ],
   "source": [
    "dir(x) #finding out the features and attributes of class"
   ]
  },
  {
   "cell_type": "code",
   "execution_count": 40,
   "metadata": {},
   "outputs": [
    {
     "data": {
      "text/plain": [
       "__main__.animal"
      ]
     },
     "execution_count": 40,
     "metadata": {},
     "output_type": "execute_result"
    }
   ],
   "source": [
    "x.__class__"
   ]
  },
  {
   "cell_type": "code",
   "execution_count": 41,
   "metadata": {},
   "outputs": [
    {
     "data": {
      "text/plain": [
       "<function animal.__reduce__>"
      ]
     },
     "execution_count": 41,
     "metadata": {},
     "output_type": "execute_result"
    }
   ],
   "source": [
    "x.__reduce__"
   ]
  },
  {
   "cell_type": "code",
   "execution_count": 54,
   "metadata": {},
   "outputs": [],
   "source": [
    "class Point:\n",
    "    def reset(self):\n",
    "        self.x = 10\n",
    "        self.y = 10\n",
    "p1 = Point() #instanciated\n",
    "p2 = Point()"
   ]
  },
  {
   "cell_type": "code",
   "execution_count": 55,
   "metadata": {},
   "outputs": [],
   "source": [
    "p1.x = 5\n",
    "p1.y = 6"
   ]
  },
  {
   "cell_type": "code",
   "execution_count": 56,
   "metadata": {},
   "outputs": [],
   "source": [
    "p2.x = 6\n",
    "p2.y = 7"
   ]
  },
  {
   "cell_type": "code",
   "execution_count": 57,
   "metadata": {},
   "outputs": [
    {
     "name": "stdout",
     "output_type": "stream",
     "text": [
      "5\n"
     ]
    }
   ],
   "source": [
    "print(p1.x)"
   ]
  },
  {
   "cell_type": "code",
   "execution_count": 58,
   "metadata": {},
   "outputs": [
    {
     "name": "stdout",
     "output_type": "stream",
     "text": [
      "6\n"
     ]
    }
   ],
   "source": [
    "print(p2.x)"
   ]
  },
  {
   "cell_type": "code",
   "execution_count": 59,
   "metadata": {},
   "outputs": [],
   "source": [
    "p2.reset()"
   ]
  },
  {
   "cell_type": "code",
   "execution_count": 60,
   "metadata": {},
   "outputs": [
    {
     "name": "stdout",
     "output_type": "stream",
     "text": [
      "10\n"
     ]
    }
   ],
   "source": [
    "print(p2.x)"
   ]
  },
  {
   "cell_type": "code",
   "execution_count": 46,
   "metadata": {},
   "outputs": [],
   "source": [
    "class Animals2:\n",
    "    \"\"\"Blue print of animal\"\"\"\n",
    "    def __init__(self, name, age):\n",
    "        self.name = name\n",
    "        self.age = age\n",
    "    def sound(self, x):\n",
    "        print(\"the sound of {0} is {1} \".format(self.name,x))\n",
    "    def walk(self, x):\n",
    "        print(\"{0} uses {1} to walk \".format(self.name,x))\n",
    "    def eat(self, x):\n",
    "        print(\"{0} eats {1}\".format(self.name,x))"
   ]
  },
  {
   "cell_type": "code",
   "execution_count": 51,
   "metadata": {},
   "outputs": [],
   "source": [
    "dog = Animals2('dog',12)\n",
    "cat = Animals2('cat',10)"
   ]
  },
  {
   "cell_type": "code",
   "execution_count": 52,
   "metadata": {},
   "outputs": [
    {
     "name": "stdout",
     "output_type": "stream",
     "text": [
      "the sound of dog is bark \n"
     ]
    }
   ],
   "source": [
    "dog.sound(\"bark\")"
   ]
  },
  {
   "cell_type": "code",
   "execution_count": 53,
   "metadata": {},
   "outputs": [
    {
     "name": "stdout",
     "output_type": "stream",
     "text": [
      "the sound of cat is meow \n"
     ]
    }
   ],
   "source": [
    "cat.sound(\"meow\")"
   ]
  },
  {
   "cell_type": "code",
   "execution_count": 54,
   "metadata": {},
   "outputs": [
    {
     "name": "stdout",
     "output_type": "stream",
     "text": [
      "dog uses legs to walk \n"
     ]
    }
   ],
   "source": [
    "dog.walk(\"legs\")"
   ]
  },
  {
   "cell_type": "code",
   "execution_count": 55,
   "metadata": {},
   "outputs": [
    {
     "name": "stdout",
     "output_type": "stream",
     "text": [
      "dog eats Pedigree\n"
     ]
    }
   ],
   "source": [
    "dog.eat(\"Pedigree\")"
   ]
  },
  {
   "cell_type": "code",
   "execution_count": 4,
   "metadata": {},
   "outputs": [],
   "source": [
    "class Employee:\n",
    "    bonus1 = 1.10\n",
    "    \n",
    "    def __init__(self,first,last,pay):\n",
    "        self.first = first\n",
    "        self.last = last\n",
    "        self.pay = pay\n",
    "        self._email = None \n",
    "        self.first + \".\" + self.last + \"@deerwalk.com\"\n",
    "    def fullname(self):\n",
    "        return\"{} {}\".format(self.first, self.last)\n",
    "    def bonus(self):\n",
    "        print(\"Employee.bonus1\", Employee.bonus1)\n",
    "        print(\"self.bonus1\", self.bonus1)\n",
    "        self.pay = int(self.pay * self.bonus1)\n",
    "        return self.pay\n",
    "    @classmethod #decorator\n",
    "    def split(cls,x):\n",
    "        first, last, pay = x.split(\"-\")\n",
    "        return cls(first, last, int(pay))\n",
    "    @property\n",
    "    def email(self):\n",
    "        if self._email is None :\n",
    "            return self.first + \".\" + self.last + \"@deerwalk.com\"\n",
    "        else:\n",
    "            return self._email\n",
    "\n",
    "    @email.setter\n",
    "    def email(self, new_email):\n",
    "        self._email = new_email\n",
    "#     @email.getter\n",
    "#     def email(self):\n",
    "#         return self._email\n",
    "        "
   ]
  },
  {
   "cell_type": "code",
   "execution_count": 5,
   "metadata": {},
   "outputs": [
    {
     "name": "stdout",
     "output_type": "stream",
     "text": [
      "50000\n",
      "Jane Doe\n",
      "Employee.bonus1 1.1\n",
      "self.bonus1 1.1\n",
      "55000\n"
     ]
    },
    {
     "data": {
      "text/plain": [
       "'Jane.Doe@deerwalk.com'"
      ]
     },
     "execution_count": 5,
     "metadata": {},
     "output_type": "execute_result"
    }
   ],
   "source": [
    "emp1 = Employee('Jane', 'Doe', 50000)\n",
    "print(emp1.pay)\n",
    "print(emp1.fullname())\n",
    "print(emp1.bonus())\n",
    "emp1.pay\n",
    "emp1.email"
   ]
  },
  {
   "cell_type": "code",
   "execution_count": 6,
   "metadata": {},
   "outputs": [
    {
     "name": "stdout",
     "output_type": "stream",
     "text": [
      "50000\n",
      "Sam Smit\n",
      "10000.0\n"
     ]
    },
    {
     "data": {
      "text/plain": [
       "'Sam.Smit@deerwalk.com'"
      ]
     },
     "execution_count": 6,
     "metadata": {},
     "output_type": "execute_result"
    }
   ],
   "source": [
    "emp2 = Employee('Sam', 'Smit', 50000)\n",
    "print(emp2.pay)\n",
    "print(emp2.fullname())\n",
    "bonusnew = emp2.pay * (20/100)\n",
    "print(bonusnew)\n",
    "emp2.pay + bonusnew\n",
    "emp2.email"
   ]
  },
  {
   "cell_type": "code",
   "execution_count": 7,
   "metadata": {},
   "outputs": [
    {
     "name": "stdout",
     "output_type": "stream",
     "text": [
      "20000\n",
      "Neha Smit\n",
      "Employee.bonus1 1.1\n",
      "self.bonus1 1.3\n",
      "26000\n"
     ]
    },
    {
     "data": {
      "text/plain": [
       "'Neha.Smit@deerwalk.com'"
      ]
     },
     "execution_count": 7,
     "metadata": {},
     "output_type": "execute_result"
    }
   ],
   "source": [
    "emp3 = Employee('Neha', 'Smit', 20000)\n",
    "print(emp3.pay)\n",
    "print(emp3.fullname())\n",
    "emp3.bonus1 = 1.30\n",
    "print(emp3.bonus())\n",
    "emp3.pay\n",
    "emp3.email"
   ]
  },
  {
   "cell_type": "code",
   "execution_count": 8,
   "metadata": {},
   "outputs": [
    {
     "name": "stdout",
     "output_type": "stream",
     "text": [
      "Saijal Shakya\n",
      "30000\n",
      "Employee.bonus1 1.1\n",
      "self.bonus1 1.1\n",
      "33000\n",
      "email@email.com\n"
     ]
    }
   ],
   "source": [
    "x = Employee.split('Saijal-Shakya-30000')\n",
    "print(x.fullname())\n",
    "print(x.pay)\n",
    "print(x.bonus())\n",
    "x.pay\n",
    "# x.email\n",
    "# x.email = 'email@email.com'\n",
    "x.email= \"email@email.com\"\n",
    "print(x.email)"
   ]
  },
  {
   "cell_type": "code",
   "execution_count": 9,
   "metadata": {},
   "outputs": [],
   "source": [
    "class days:\n",
    "    @staticmethod #decorator\n",
    "    def holiday(x):\n",
    "        if x == \"sat\" or x==\"sun\":\n",
    "            return True \n",
    "        else:\n",
    "            return False "
   ]
  },
  {
   "cell_type": "code",
   "execution_count": 101,
   "metadata": {},
   "outputs": [
    {
     "data": {
      "text/plain": [
       "False"
      ]
     },
     "execution_count": 101,
     "metadata": {},
     "output_type": "execute_result"
    }
   ],
   "source": [
    "days.holiday(\"mon\")"
   ]
  },
  {
   "cell_type": "code",
   "execution_count": 102,
   "metadata": {},
   "outputs": [],
   "source": [
    "x = days()"
   ]
  },
  {
   "cell_type": "code",
   "execution_count": 103,
   "metadata": {},
   "outputs": [
    {
     "data": {
      "text/plain": [
       "True"
      ]
     },
     "execution_count": 103,
     "metadata": {},
     "output_type": "execute_result"
    }
   ],
   "source": [
    "x.holiday(\"sun\")"
   ]
  },
  {
   "cell_type": "code",
   "execution_count": 125,
   "metadata": {},
   "outputs": [],
   "source": [
    "# @getter\n",
    "#@setter"
   ]
  },
  {
   "cell_type": "code",
   "execution_count": null,
   "metadata": {},
   "outputs": [],
   "source": []
  }
 ],
 "metadata": {
  "kernelspec": {
   "display_name": "Python 3",
   "language": "python",
   "name": "python3"
  },
  "language_info": {
   "codemirror_mode": {
    "name": "ipython",
    "version": 3
   },
   "file_extension": ".py",
   "mimetype": "text/x-python",
   "name": "python",
   "nbconvert_exporter": "python",
   "pygments_lexer": "ipython3",
   "version": "3.6.7"
  }
 },
 "nbformat": 4,
 "nbformat_minor": 2
}
