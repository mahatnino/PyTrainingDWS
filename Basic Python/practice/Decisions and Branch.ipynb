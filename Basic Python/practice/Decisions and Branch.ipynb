{
 "cells": [
  {
   "cell_type": "code",
   "execution_count": 1,
   "metadata": {},
   "outputs": [
    {
     "name": "stdout",
     "output_type": "stream",
     "text": [
      "world!\n",
      "Password Match\n"
     ]
    }
   ],
   "source": [
    "b = \"world\"\n",
    "c = \"world!\"\n",
    "a = input()\n",
    "if a == b or a==c:\n",
    "    print(\"Password Match\")\n",
    "else:\n",
    "    print(\"error\")"
   ]
  },
  {
   "cell_type": "code",
   "execution_count": 10,
   "metadata": {},
   "outputs": [
    {
     "name": "stdout",
     "output_type": "stream",
     "text": [
      "0\n",
      "zero is neither odd nor even\n"
     ]
    }
   ],
   "source": [
    "num = int(input())\n",
    "if num == 0:\n",
    "    print(\"zero is neither odd nor even\")\n",
    "elif num%2 == 0:\n",
    "    print(\"the number is even\")\n",
    "    \n",
    "else:\n",
    "    print(\"the number is odd\")"
   ]
  },
  {
   "cell_type": "code",
   "execution_count": 28,
   "metadata": {},
   "outputs": [
    {
     "name": "stdout",
     "output_type": "stream",
     "text": [
      "12\n",
      "good day\n"
     ]
    }
   ],
   "source": [
    "a = int(input())\n",
    "if a>23 or a<0:\n",
    "    print(\"please set your input to correct 24 hour range\") \n",
    "elif a>=12 and a<17:\n",
    "    print(\"good day\")\n",
    "elif a>=17 and a<21:\n",
    "    print(\"good evening\")\n",
    "elif a<12 and a>0:\n",
    "    print(\"good morning\")\n",
    "else:\n",
    "    print(\"good night\")"
   ]
  },
  {
   "cell_type": "code",
   "execution_count": 12,
   "metadata": {},
   "outputs": [
    {
     "name": "stdout",
     "output_type": "stream",
     "text": [
      "45.0\n",
      "your number must be an integer\n"
     ]
    }
   ],
   "source": [
    "try:\n",
    "    a = int(input())\n",
    "    if a >200 or a<0:\n",
    "        print(\"please enter a number below 200 and above 0\")\n",
    "    elif a >= 0 and a <=50:\n",
    "        print(\"between 0-50\")\n",
    "    elif a >= 51 and a <=150:\n",
    "        print(\"between 50-150\")\n",
    "    elif a >= 151 and a <200:\n",
    "        print(\"between 151-200\")\n",
    "    else:\n",
    "        print(\"magic, your number is 200\")\n",
    "    \n",
    "except:\n",
    "    print(\"your number must be an integer\")\n"
   ]
  },
  {
   "cell_type": "code",
   "execution_count": 15,
   "metadata": {},
   "outputs": [
    {
     "name": "stdout",
     "output_type": "stream",
     "text": [
      "34\n",
      "55\n",
      "55\n"
     ]
    }
   ],
   "source": [
    "a = int(input())\n",
    "b = int(input())\n",
    "max = a if (a > b) else b\n",
    "print(max)"
   ]
  },
  {
   "cell_type": "code",
   "execution_count": null,
   "metadata": {},
   "outputs": [],
   "source": []
  }
 ],
 "metadata": {
  "kernelspec": {
   "display_name": "Python 3",
   "language": "python",
   "name": "python3"
  },
  "language_info": {
   "codemirror_mode": {
    "name": "ipython",
    "version": 3
   },
   "file_extension": ".py",
   "mimetype": "text/x-python",
   "name": "python",
   "nbconvert_exporter": "python",
   "pygments_lexer": "ipython3",
   "version": "3.6.7"
  }
 },
 "nbformat": 4,
 "nbformat_minor": 2
}
