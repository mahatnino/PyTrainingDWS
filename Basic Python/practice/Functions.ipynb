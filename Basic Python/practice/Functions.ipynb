{
 "cells": [
  {
   "cell_type": "code",
   "execution_count": 2,
   "metadata": {},
   "outputs": [],
   "source": [
    "def addition(a,b):\n",
    "    return(a+b)"
   ]
  },
  {
   "cell_type": "code",
   "execution_count": 3,
   "metadata": {},
   "outputs": [
    {
     "data": {
      "text/plain": [
       "8"
      ]
     },
     "execution_count": 3,
     "metadata": {},
     "output_type": "execute_result"
    }
   ],
   "source": [
    "addition(3,5)"
   ]
  },
  {
   "cell_type": "code",
   "execution_count": 7,
   "metadata": {},
   "outputs": [
    {
     "name": "stdout",
     "output_type": "stream",
     "text": [
      "3\n",
      "5\n"
     ]
    },
    {
     "data": {
      "text/plain": [
       "8"
      ]
     },
     "execution_count": 7,
     "metadata": {},
     "output_type": "execute_result"
    }
   ],
   "source": [
    "addition(int(input()),int(input()))"
   ]
  },
  {
   "cell_type": "code",
   "execution_count": 14,
   "metadata": {},
   "outputs": [],
   "source": [
    "def lines():\n",
    "    print(\"-\"*15)\n",
    "    print(\" \"+\"Hello World\")\n",
    "    print(\"-\"*15)"
   ]
  },
  {
   "cell_type": "code",
   "execution_count": 15,
   "metadata": {},
   "outputs": [
    {
     "name": "stdout",
     "output_type": "stream",
     "text": [
      "---------------\n",
      " Hello World\n",
      "---------------\n"
     ]
    }
   ],
   "source": [
    "lines()"
   ]
  },
  {
   "cell_type": "code",
   "execution_count": 40,
   "metadata": {},
   "outputs": [],
   "source": [
    "def add (a,b):\n",
    "        print(\"The sum of {0} + {1} is :\".format(a,b) ,str(int(a+b)))"
   ]
  },
  {
   "cell_type": "code",
   "execution_count": 41,
   "metadata": {},
   "outputs": [
    {
     "name": "stdout",
     "output_type": "stream",
     "text": [
      "The sum of 5 + 6 is : 11\n"
     ]
    }
   ],
   "source": [
    "add(5,6)"
   ]
  },
  {
   "cell_type": "code",
   "execution_count": 42,
   "metadata": {},
   "outputs": [
    {
     "name": "stdout",
     "output_type": "stream",
     "text": [
      "Default style\n",
      "+++++++++++++++++++++++++++++\n",
      " Hello World \n",
      "+++++++++++++++++++++++++++++\n",
      "\n",
      "Style character *\n",
      "*****************************\n",
      " Hello World \n",
      "*****************************\n",
      "\n",
      "Style character =\n",
      "=============================\n",
      " Hello World \n",
      "=============================\n"
     ]
    }
   ],
   "source": [
    "def greeting(style_char=\"+\"):\n",
    "        print(style_char * 29)\n",
    "        print(\" Hello World \")\n",
    "        print(style_char * 29)\n",
    "        \n",
    "print(\"Default style\")\n",
    "greeting()\n",
    "print(\"\\nStyle character *\")\n",
    "greeting('*')\n",
    "print(\"\\nStyle character =\")\n",
    "greeting(style_char='=')"
   ]
  },
  {
   "cell_type": "code",
   "execution_count": 43,
   "metadata": {},
   "outputs": [],
   "source": [
    "def new(a,b):\n",
    "    if(a.isdigit() and b.isdigit()):\n",
    "        print(\"success\")\n",
    "    else:\n",
    "        print(\"failed\")"
   ]
  },
  {
   "cell_type": "code",
   "execution_count": 47,
   "metadata": {},
   "outputs": [
    {
     "name": "stdout",
     "output_type": "stream",
     "text": [
      "5\n",
      "6\n",
      "success\n"
     ]
    }
   ],
   "source": [
    "new(input(),input())"
   ]
  },
  {
   "cell_type": "code",
   "execution_count": 62,
   "metadata": {},
   "outputs": [],
   "source": [
    "def contact(a,b,c=\"xxxxxxxxx\"): #default values comes only after non default values\n",
    "    print(\"First name: \" + a)\n",
    "    print(\"Last name: \" + b)\n",
    "    print(\"Number: \" + c)"
   ]
  },
  {
   "cell_type": "code",
   "execution_count": 63,
   "metadata": {},
   "outputs": [
    {
     "name": "stdout",
     "output_type": "stream",
     "text": [
      "First name: subash\n",
      "Last name: mahat\n",
      "Number: xxxxxxxxx\n"
     ]
    }
   ],
   "source": [
    "contact(\"subash\",\"mahat\")"
   ]
  },
  {
   "cell_type": "code",
   "execution_count": 59,
   "metadata": {},
   "outputs": [
    {
     "name": "stdout",
     "output_type": "stream",
     "text": [
      "Shradha\n",
      "Maharjan\n",
      "First name: Shradha\n",
      "Last name: Maharjan\n",
      "Number: xxxxxxxxx\n"
     ]
    }
   ],
   "source": [
    "contact(input(),input())"
   ]
  },
  {
   "cell_type": "code",
   "execution_count": 64,
   "metadata": {},
   "outputs": [
    {
     "name": "stdout",
     "output_type": "stream",
     "text": [
      "Hello World\n",
      "Great Job\n",
      "Great World\n"
     ]
    }
   ],
   "source": [
    "def testDefaultParams(var1 = \"Hello\", var2 = \"World\"):\n",
    "    print(var1 + \" \" + var2)\n",
    "testDefaultParams()  #prints Hello World\n",
    "testDefaultParams(var2=\"Job\",var1=\"Great\") # prints Great Job\n",
    "testDefaultParams(var1=\"Great\") #prints Great World"
   ]
  },
  {
   "cell_type": "code",
   "execution_count": 66,
   "metadata": {},
   "outputs": [
    {
     "name": "stdout",
     "output_type": "stream",
     "text": [
      "87\n"
     ]
    }
   ],
   "source": [
    "def fun(*args):\n",
    "    total  = 0\n",
    "    for each in args:\n",
    "        total += each\n",
    "    print(total)\n",
    "fun(1,2,3,4,4,5,4,5,6,7,8,9,9,20)"
   ]
  },
  {
   "cell_type": "code",
   "execution_count": 67,
   "metadata": {},
   "outputs": [
    {
     "name": "stdout",
     "output_type": "stream",
     "text": [
      "before 5 Hello\n",
      "6\n",
      "HelloWorld\n",
      "after 5 Hello\n"
     ]
    }
   ],
   "source": [
    "def func(x, y):\n",
    "    print(x + 1)\n",
    "    print(y + \"World\")\n",
    "x = 5\n",
    "y = \"Hello\"\n",
    "print(\"before\",x,y)\n",
    "func(x,y)\n",
    "print(\"after\",x,y)"
   ]
  },
  {
   "cell_type": "code",
   "execution_count": 79,
   "metadata": {},
   "outputs": [],
   "source": [
    "def function(**kwargs):\n",
    "    for k,v in kwargs.items():\n",
    "        print(k,v)"
   ]
  },
  {
   "cell_type": "code",
   "execution_count": 80,
   "metadata": {},
   "outputs": [
    {
     "name": "stdout",
     "output_type": "stream",
     "text": [
      "fname Subash\n",
      "lname mahat\n",
      "address kupondol\n",
      "country Nepal\n",
      "ward 10\n",
      "number 9841056145\n"
     ]
    }
   ],
   "source": [
    "function(fname = \"Subash\",lname = \"mahat\", address =\"kupondol\",country  =\"Nepal\",  ward = 10,number = 9841056145)"
   ]
  },
  {
   "cell_type": "code",
   "execution_count": 83,
   "metadata": {},
   "outputs": [
    {
     "name": "stdout",
     "output_type": "stream",
     "text": [
      "Before update {'a': 12}\n",
      "after update {'a': 123}\n"
     ]
    }
   ],
   "source": [
    "def func(x):\n",
    "    x.update({\"a\":123})\n",
    "x={\"a\":12}\n",
    "print(\"Before update\",x)\n",
    "func(x)\n",
    "print(\"after update\",x)"
   ]
  },
  {
   "cell_type": "code",
   "execution_count": 84,
   "metadata": {},
   "outputs": [],
   "source": [
    "def func(x):\n",
    "    x[0] = 100\n",
    "    return"
   ]
  },
  {
   "cell_type": "code",
   "execution_count": 87,
   "metadata": {},
   "outputs": [],
   "source": [
    "func(x)"
   ]
  },
  {
   "cell_type": "code",
   "execution_count": null,
   "metadata": {},
   "outputs": [],
   "source": []
  }
 ],
 "metadata": {
  "kernelspec": {
   "display_name": "Python 3",
   "language": "python",
   "name": "python3"
  },
  "language_info": {
   "codemirror_mode": {
    "name": "ipython",
    "version": 3
   },
   "file_extension": ".py",
   "mimetype": "text/x-python",
   "name": "python",
   "nbconvert_exporter": "python",
   "pygments_lexer": "ipython3",
   "version": "3.6.7"
  }
 },
 "nbformat": 4,
 "nbformat_minor": 2
}
