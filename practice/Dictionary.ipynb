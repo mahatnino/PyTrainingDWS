{
 "cells": [
  {
   "cell_type": "code",
   "execution_count": 1,
   "metadata": {},
   "outputs": [
    {
     "name": "stdout",
     "output_type": "stream",
     "text": [
      "{}\n",
      "{}\n"
     ]
    }
   ],
   "source": [
    "empty_dict ={}\n",
    "dictionary =dict()\n",
    "print(empty_dict)\n",
    "print(dictionary)"
   ]
  },
  {
   "cell_type": "code",
   "execution_count": 2,
   "metadata": {},
   "outputs": [],
   "source": [
    "language = {\n",
    "        \"name\": \"Python\",\n",
    "        \"foundend\": 1980,\n",
    "        \"opensource\": True,\n",
    "        \"version\": 3.6,\n",
    "        \"properties\": [\"high-level\", \"general-purpose\", \"interpreted\", \"dynamic\"],\n",
    "        (\"Frameworks\", ): {\n",
    "            \"web\": [\"Django\", \"Flask\", \"Pyramid\"],\n",
    "            \"machine_learning\": {\"Scikit-Learn\", \"PyTorch\", \"Tensorflow\"}\n",
    "        }    \n",
    "    }"
   ]
  },
  {
   "cell_type": "code",
   "execution_count": 3,
   "metadata": {},
   "outputs": [
    {
     "name": "stdout",
     "output_type": "stream",
     "text": [
      "{'name': 'Python', 'foundend': 1980, 'opensource': True, 'version': 3.6, 'properties': ['high-level', 'general-purpose', 'interpreted', 'dynamic'], ('Frameworks',): {'web': ['Django', 'Flask', 'Pyramid'], 'machine_learning': {'Tensorflow', 'Scikit-Learn', 'PyTorch'}}}\n"
     ]
    }
   ],
   "source": [
    "print(language)"
   ]
  },
  {
   "cell_type": "code",
   "execution_count": 4,
   "metadata": {},
   "outputs": [
    {
     "name": "stdout",
     "output_type": "stream",
     "text": [
      "6\n"
     ]
    }
   ],
   "source": [
    "print(len(language))"
   ]
  },
  {
   "cell_type": "code",
   "execution_count": 5,
   "metadata": {},
   "outputs": [],
   "source": [
    "\n",
    "\n",
    "hbo_hits = [\n",
    "        ('Game of Thrones', 9.5), \n",
    "        ('Band of Brothers', 9.5), \n",
    "        ('The Wire', 9.3), \n",
    "        ('The Sopranos', 9.2)\n",
    "]\n"
   ]
  },
  {
   "cell_type": "code",
   "execution_count": 6,
   "metadata": {},
   "outputs": [
    {
     "name": "stdout",
     "output_type": "stream",
     "text": [
      "<class 'list'>\n"
     ]
    }
   ],
   "source": [
    "print(type(hbo_hits))"
   ]
  },
  {
   "cell_type": "code",
   "execution_count": 7,
   "metadata": {},
   "outputs": [],
   "source": [
    "hbo= dict(hbo_hits)"
   ]
  },
  {
   "cell_type": "code",
   "execution_count": 8,
   "metadata": {},
   "outputs": [
    {
     "name": "stdout",
     "output_type": "stream",
     "text": [
      "{'Game of Thrones': 9.5, 'Band of Brothers': 9.5, 'The Wire': 9.3, 'The Sopranos': 9.2}\n"
     ]
    }
   ],
   "source": [
    "print(hbo)"
   ]
  },
  {
   "cell_type": "code",
   "execution_count": 14,
   "metadata": {},
   "outputs": [
    {
     "name": "stdout",
     "output_type": "stream",
     "text": [
      "{   'Band of Brothers': 9.5,\n",
      "    'Game of Thrones': 9.5,\n",
      "    'The Sopranos': 9.2,\n",
      "    'The Wire': 9.3}\n"
     ]
    }
   ],
   "source": [
    "import pprint\n",
    "pp = pprint.PrettyPrinter(indent=4)\n",
    "pp.pprint(hbo)"
   ]
  },
  {
   "cell_type": "code",
   "execution_count": 15,
   "metadata": {},
   "outputs": [],
   "source": [
    "language = {\n",
    "        \"name\": \"Python\",\n",
    "        \"foundend\": 1980,\n",
    "        \"opensource\": True,\n",
    "        \"version\": 3.6,\n",
    "        \"properties\": [\"high-level\", \"general-purpose\", \"interpreted\", \"dynamic\"],\n",
    "        (\"Frameworks\", ): {\n",
    "            \"web\": [\"Django\", \"Flask\", \"Pyramid\"],\n",
    "            \"machine_learning\": {\"Scikit-Learn\", \"PyTorch\", \"Tensorflow\"}\n",
    "        }    \n",
    "    }"
   ]
  },
  {
   "cell_type": "code",
   "execution_count": 19,
   "metadata": {},
   "outputs": [
    {
     "name": "stdout",
     "output_type": "stream",
     "text": [
      "Python\n"
     ]
    }
   ],
   "source": [
    "print(language['name'])"
   ]
  },
  {
   "cell_type": "code",
   "execution_count": 21,
   "metadata": {},
   "outputs": [
    {
     "name": "stdout",
     "output_type": "stream",
     "text": [
      "<built-in method keys of dict object at 0x00D13A80>\n"
     ]
    }
   ],
   "source": [
    "print(language.keys)"
   ]
  },
  {
   "cell_type": "code",
   "execution_count": 22,
   "metadata": {},
   "outputs": [
    {
     "name": "stdout",
     "output_type": "stream",
     "text": [
      "<built-in method values of dict object at 0x00D13A80>\n"
     ]
    }
   ],
   "source": [
    "print(language.values)"
   ]
  },
  {
   "cell_type": "code",
   "execution_count": 23,
   "metadata": {},
   "outputs": [],
   "source": [
    "phone_book = {\n",
    "    \"ram\": [\"98073XXXXX\", \"98402XXXXX\"],\n",
    "    \"hari\": [\"9800000000\"]\n",
    "}\n"
   ]
  },
  {
   "cell_type": "code",
   "execution_count": 28,
   "metadata": {},
   "outputs": [
    {
     "name": "stdout",
     "output_type": "stream",
     "text": [
      "['9800000000']\n"
     ]
    }
   ],
   "source": [
    "print(phone_book[\"hari\"])"
   ]
  },
  {
   "cell_type": "code",
   "execution_count": 31,
   "metadata": {},
   "outputs": [
    {
     "name": "stdout",
     "output_type": "stream",
     "text": [
      "['98073XXXXX', '98402XXXXX']\n"
     ]
    }
   ],
   "source": [
    "print(phone_book[\"ram\"])"
   ]
  },
  {
   "cell_type": "code",
   "execution_count": 32,
   "metadata": {},
   "outputs": [
    {
     "name": "stdout",
     "output_type": "stream",
     "text": [
      "98402XXXXX\n"
     ]
    }
   ],
   "source": [
    "print(phone_book[\"ram\"][1])"
   ]
  },
  {
   "cell_type": "code",
   "execution_count": 33,
   "metadata": {},
   "outputs": [],
   "source": [
    "phone_book = {\n",
    "    \"ram\": {\"ncell\": \"98073XXXXX\", \n",
    "              \"ntc\":\"98402XXXXX\"},\n",
    "    \"hari\": [\"9800000000\"]\n",
    "}"
   ]
  },
  {
   "cell_type": "code",
   "execution_count": 34,
   "metadata": {},
   "outputs": [
    {
     "name": "stdout",
     "output_type": "stream",
     "text": [
      "98402XXXXX\n"
     ]
    }
   ],
   "source": [
    "print(phone_book[\"ram\"][\"ntc\"])"
   ]
  },
  {
   "cell_type": "code",
   "execution_count": 36,
   "metadata": {},
   "outputs": [
    {
     "data": {
      "text/plain": [
       "dict_keys(['ram', 'hari'])"
      ]
     },
     "execution_count": 36,
     "metadata": {},
     "output_type": "execute_result"
    }
   ],
   "source": [
    "phone_book.keys()"
   ]
  },
  {
   "cell_type": "code",
   "execution_count": 37,
   "metadata": {},
   "outputs": [
    {
     "name": "stdout",
     "output_type": "stream",
     "text": [
      "{'Game of Thrones': 9.5, 'Band of Brothers': 9.5, 'The Wire': 9.3, 'The Sopranos': 9.2}\n"
     ]
    }
   ],
   "source": [
    "print(hbo)"
   ]
  },
  {
   "cell_type": "code",
   "execution_count": 38,
   "metadata": {},
   "outputs": [
    {
     "name": "stdout",
     "output_type": "stream",
     "text": [
      "9.5\n"
     ]
    }
   ],
   "source": [
    "print(hbo[\"Band of Brothers\"])"
   ]
  },
  {
   "cell_type": "code",
   "execution_count": 40,
   "metadata": {},
   "outputs": [],
   "source": [
    "\n",
    "\n",
    "phone_book = {\n",
    "    \"ncell\": \"98073XXXXX\",\n",
    "    \"ntc\":\"98402XXXXX\"\n",
    "}\n",
    "\n"
   ]
  },
  {
   "cell_type": "code",
   "execution_count": 43,
   "metadata": {},
   "outputs": [
    {
     "name": "stdout",
     "output_type": "stream",
     "text": [
      "There are no values\n"
     ]
    }
   ],
   "source": [
    "print(phone_book.get(\"abc\",\"There are no values\"))"
   ]
  },
  {
   "cell_type": "code",
   "execution_count": 48,
   "metadata": {},
   "outputs": [
    {
     "name": "stdout",
     "output_type": "stream",
     "text": [
      "98402XXXXX\n"
     ]
    }
   ],
   "source": [
    "print(phone_book.get(\"ntc\"))"
   ]
  },
  {
   "cell_type": "code",
   "execution_count": 51,
   "metadata": {},
   "outputs": [],
   "source": [
    "phone_book[\"abc\"]=(\"1234XXXXXXX\")"
   ]
  },
  {
   "cell_type": "code",
   "execution_count": 52,
   "metadata": {},
   "outputs": [
    {
     "name": "stdout",
     "output_type": "stream",
     "text": [
      "1234XXXXXXX\n"
     ]
    }
   ],
   "source": [
    "print(phone_book.get(\"abc\"))"
   ]
  },
  {
   "cell_type": "code",
   "execution_count": 54,
   "metadata": {},
   "outputs": [],
   "source": [
    "phone_book[\"ncell\"]=(\"5678XXXXXX\")"
   ]
  },
  {
   "cell_type": "code",
   "execution_count": 55,
   "metadata": {},
   "outputs": [
    {
     "name": "stdout",
     "output_type": "stream",
     "text": [
      "{'ncell': '5678XXXXXX', 'ntc': '98402XXXXX', 'abc': '1234XXXXXXX'}\n"
     ]
    }
   ],
   "source": [
    "print(phone_book)"
   ]
  },
  {
   "cell_type": "code",
   "execution_count": 59,
   "metadata": {},
   "outputs": [],
   "source": [
    "phone_book.update({\"sky\":\"12345XXXXX\"})\n",
    "    "
   ]
  },
  {
   "cell_type": "code",
   "execution_count": 60,
   "metadata": {},
   "outputs": [
    {
     "name": "stdout",
     "output_type": "stream",
     "text": [
      "{'ncell': '5678XXXXXX', 'ntc': '98402XXXXX', 'abc': '1234XXXXXXX', 'skey': '12345XXXXX', 'sky': '12345XXXXX'}\n"
     ]
    }
   ],
   "source": [
    "print(phone_book)"
   ]
  },
  {
   "cell_type": "code",
   "execution_count": 61,
   "metadata": {},
   "outputs": [],
   "source": [
    "phone_book.update({\"Airtel\":\"12345XXXXX\",\"ncell\":\"9818675238\",\"ntc\":\"9841056145\"})"
   ]
  },
  {
   "cell_type": "code",
   "execution_count": 62,
   "metadata": {},
   "outputs": [
    {
     "name": "stdout",
     "output_type": "stream",
     "text": [
      "{'ncell': '9818675238', 'ntc': '9841056145', 'abc': '1234XXXXXXX', 'skey': '12345XXXXX', 'sky': '12345XXXXX', 'Airtel': '12345XXXXX'}\n"
     ]
    }
   ],
   "source": [
    "print(phone_book)"
   ]
  },
  {
   "cell_type": "code",
   "execution_count": 64,
   "metadata": {},
   "outputs": [
    {
     "data": {
      "text/plain": [
       "'12345XXXXX'"
      ]
     },
     "execution_count": 64,
     "metadata": {},
     "output_type": "execute_result"
    }
   ],
   "source": [
    "phone_book.pop(\"sky\")"
   ]
  },
  {
   "cell_type": "code",
   "execution_count": 65,
   "metadata": {},
   "outputs": [
    {
     "name": "stdout",
     "output_type": "stream",
     "text": [
      "{'ncell': '9818675238', 'ntc': '9841056145', 'abc': '1234XXXXXXX', 'skey': '12345XXXXX', 'Airtel': '12345XXXXX'}\n"
     ]
    }
   ],
   "source": [
    "print(phone_book)"
   ]
  },
  {
   "cell_type": "code",
   "execution_count": 66,
   "metadata": {},
   "outputs": [],
   "source": [
    "popvalue_1=phone_book.pop(\"skey\")"
   ]
  },
  {
   "cell_type": "code",
   "execution_count": 67,
   "metadata": {},
   "outputs": [
    {
     "name": "stdout",
     "output_type": "stream",
     "text": [
      "{'ncell': '9818675238', 'ntc': '9841056145', 'abc': '1234XXXXXXX', 'Airtel': '12345XXXXX'}\n",
      "12345XXXXX\n"
     ]
    }
   ],
   "source": [
    "print(phone_book)\n",
    "print(popvalue_1)"
   ]
  },
  {
   "cell_type": "code",
   "execution_count": 68,
   "metadata": {},
   "outputs": [],
   "source": [
    "del phone_book[\"abc\"]"
   ]
  },
  {
   "cell_type": "code",
   "execution_count": 1,
   "metadata": {},
   "outputs": [],
   "source": [
    "contact = {\n",
    "    \"abc\": 980736000,\n",
    "    \"cde\": 454564564\n",
    "}"
   ]
  },
  {
   "cell_type": "code",
   "execution_count": 71,
   "metadata": {},
   "outputs": [
    {
     "name": "stdout",
     "output_type": "stream",
     "text": [
      "abc\n",
      "980736000\n"
     ]
    }
   ],
   "source": [
    "print(contact.get(input()))"
   ]
  },
  {
   "cell_type": "code",
   "execution_count": 73,
   "metadata": {},
   "outputs": [
    {
     "name": "stdout",
     "output_type": "stream",
     "text": [
      "xyz\n",
      "your contact does not exist\n"
     ]
    }
   ],
   "source": [
    "print(contact.get(input(),\"your contact does not exist\"))"
   ]
  },
  {
   "cell_type": "code",
   "execution_count": 3,
   "metadata": {},
   "outputs": [
    {
     "name": "stdout",
     "output_type": "stream",
     "text": [
      "keya\n",
      "valued\n"
     ]
    }
   ],
   "source": [
    "key= input(\"key\")\n",
    "value= input(\"value\")\n",
    "contact[key]=value"
   ]
  },
  {
   "cell_type": "code",
   "execution_count": 4,
   "metadata": {},
   "outputs": [
    {
     "name": "stdout",
     "output_type": "stream",
     "text": [
      "{'abc': 980736000, 'cde': 454564564, 'a': 'd'}\n"
     ]
    }
   ],
   "source": [
    "print(contact)"
   ]
  },
  {
   "cell_type": "code",
   "execution_count": 5,
   "metadata": {},
   "outputs": [
    {
     "name": "stdout",
     "output_type": "stream",
     "text": [
      "keysubash \n",
      "value9841056145\n",
      "value9841056145]\n",
      "keyhelllo\n"
     ]
    }
   ],
   "source": [
    "key= input(\"key\")\n",
    "value= input(\"value\")\n",
    "contact[input(\"key\")]= input(\"value\")"
   ]
  },
  {
   "cell_type": "code",
   "execution_count": 6,
   "metadata": {},
   "outputs": [
    {
     "name": "stdout",
     "output_type": "stream",
     "text": [
      "{'abc': 980736000, 'cde': 454564564, 'a': 'd', 'helllo': '9841056145]'}\n"
     ]
    }
   ],
   "source": [
    "print(contact)"
   ]
  },
  {
   "cell_type": "code",
   "execution_count": 1,
   "metadata": {},
   "outputs": [],
   "source": [
    "phone_book = {\n",
    "    \"ncell\": \"98073XXXXX\",\n",
    "    \"ntc\":\"98402XXXXX\",\n",
    "    \"sky\": \"9820######\"\n",
    "}"
   ]
  },
  {
   "cell_type": "code",
   "execution_count": 2,
   "metadata": {},
   "outputs": [
    {
     "data": {
      "text/plain": [
       "3"
      ]
     },
     "execution_count": 2,
     "metadata": {},
     "output_type": "execute_result"
    }
   ],
   "source": [
    "len(phone_book)"
   ]
  },
  {
   "cell_type": "code",
   "execution_count": 3,
   "metadata": {},
   "outputs": [
    {
     "name": "stdout",
     "output_type": "stream",
     "text": [
      "98073XXXXX\n"
     ]
    }
   ],
   "source": [
    "print(phone_book.get(\"ncell\"))"
   ]
  },
  {
   "cell_type": "code",
   "execution_count": 4,
   "metadata": {},
   "outputs": [
    {
     "data": {
      "text/plain": [
       "dict_keys(['ncell', 'ntc', 'sky'])"
      ]
     },
     "execution_count": 4,
     "metadata": {},
     "output_type": "execute_result"
    }
   ],
   "source": [
    "phone_book.keys()"
   ]
  },
  {
   "cell_type": "code",
   "execution_count": 5,
   "metadata": {},
   "outputs": [
    {
     "data": {
      "text/plain": [
       "dict_values(['98073XXXXX', '98402XXXXX', '9820######'])"
      ]
     },
     "execution_count": 5,
     "metadata": {},
     "output_type": "execute_result"
    }
   ],
   "source": [
    "phone_book.values()"
   ]
  },
  {
   "cell_type": "code",
   "execution_count": 6,
   "metadata": {},
   "outputs": [
    {
     "data": {
      "text/plain": [
       "dict_items([('ncell', '98073XXXXX'), ('ntc', '98402XXXXX'), ('sky', '9820######')])"
      ]
     },
     "execution_count": 6,
     "metadata": {},
     "output_type": "execute_result"
    }
   ],
   "source": [
    "phone_book.items()"
   ]
  },
  {
   "cell_type": "code",
   "execution_count": 7,
   "metadata": {},
   "outputs": [
    {
     "data": {
      "text/plain": [
       "True"
      ]
     },
     "execution_count": 7,
     "metadata": {},
     "output_type": "execute_result"
    }
   ],
   "source": [
    "\"ncell\" in phone_book"
   ]
  },
  {
   "cell_type": "code",
   "execution_count": 11,
   "metadata": {},
   "outputs": [
    {
     "data": {
      "text/plain": [
       "True"
      ]
     },
     "execution_count": 11,
     "metadata": {},
     "output_type": "execute_result"
    }
   ],
   "source": [
    "\"abc\" not in phone_book"
   ]
  },
  {
   "cell_type": "code",
   "execution_count": 12,
   "metadata": {},
   "outputs": [],
   "source": [
    "phone_book.clear()"
   ]
  },
  {
   "cell_type": "code",
   "execution_count": 13,
   "metadata": {},
   "outputs": [
    {
     "name": "stdout",
     "output_type": "stream",
     "text": [
      "{}\n"
     ]
    }
   ],
   "source": [
    "print(phone_book)"
   ]
  },
  {
   "cell_type": "code",
   "execution_count": 14,
   "metadata": {},
   "outputs": [],
   "source": [
    "hbo_tv_shows = {'The Sopranos': 9.2, 'The Wire': 9.3, 'Band of Brothers': 9.5, 'Game of Thrones': 9.5}\n"
   ]
  },
  {
   "cell_type": "code",
   "execution_count": 17,
   "metadata": {},
   "outputs": [
    {
     "name": "stdout",
     "output_type": "stream",
     "text": [
      "The Sopranos\n",
      "The Wire\n",
      "Band of Brothers\n",
      "Game of Thrones\n"
     ]
    }
   ],
   "source": [
    "for item in hbo_tv_shows:\n",
    "    print(item)"
   ]
  },
  {
   "cell_type": "code",
   "execution_count": 21,
   "metadata": {},
   "outputs": [
    {
     "name": "stdout",
     "output_type": "stream",
     "text": [
      "The Sopranos 9.2\n",
      "The Wire 9.3\n",
      "Band of Brothers 9.5\n",
      "Game of Thrones 9.5\n"
     ]
    }
   ],
   "source": [
    "for keys, values in hbo_tv_shows.items():\n",
    "    print(keys, values)"
   ]
  },
  {
   "cell_type": "code",
   "execution_count": 22,
   "metadata": {},
   "outputs": [],
   "source": [
    "tv_shows = {\n",
    "    \"HBO\": {'The Sopranos': 9.2, 'The Wire': 9.3, 'Band of Brothers': 9.5, 'Game of Thrones': 9.5},\n",
    "    \"AMC\": {\"Breaking Bad\":9.5, \"Better Call Saul\":8.7, \"The Walking Dead\":8.5}\n",
    "}"
   ]
  },
  {
   "cell_type": "code",
   "execution_count": 23,
   "metadata": {},
   "outputs": [
    {
     "name": "stdout",
     "output_type": "stream",
     "text": [
      "{'HBO': {'The Sopranos': 9.2, 'The Wire': 9.3, 'Band of Brothers': 9.5, 'Game of Thrones': 9.5}, 'AMC': {'Breaking Bad': 9.5, 'Better Call Saul': 8.7, 'The Walking Dead': 8.5}}\n"
     ]
    }
   ],
   "source": [
    "print(tv_shows)"
   ]
  },
  {
   "cell_type": "code",
   "execution_count": 53,
   "metadata": {},
   "outputs": [
    {
     "name": "stdout",
     "output_type": "stream",
     "text": [
      "The rating of The Sopranos is 9.2\n",
      "The rating of The Sopranos is 9.2\n",
      "The rating of The Wire is 9.3\n",
      "The rating of The Wire is 9.3\n",
      "The rating of Band of Brothers is 9.5\n",
      "The rating of Band of Brothers is 9.5\n",
      "The rating of Game of Thrones is 9.5\n",
      "The rating of Game of Thrones is 9.5\n",
      "The rating of Breaking Bad is 9.5\n",
      "The rating of Breaking Bad is 9.5\n",
      "The rating of Better Call Saul is 8.7\n",
      "The rating of Better Call Saul is 8.7\n",
      "The rating of The Walking Dead is 8.5\n",
      "The rating of The Walking Dead is 8.5\n"
     ]
    }
   ],
   "source": [
    "for keys, values in tv_shows.items():\n",
    "    for i, j in values.items():\n",
    "        print(\"The rating of {} is {}\".format(i,j))\n",
    "        print(\"The rating of {0} is {1}\".format(i,j))"
   ]
  },
  {
   "cell_type": "code",
   "execution_count": 54,
   "metadata": {},
   "outputs": [],
   "source": [
    "amc_tv_shows = {\"Breaking Bad\":9.5, \"Better Call Saul\":8.7, \"The Walking Dead\":8.5}"
   ]
  },
  {
   "cell_type": "code",
   "execution_count": 76,
   "metadata": {},
   "outputs": [
    {
     "name": "stdout",
     "output_type": "stream",
     "text": [
      "The Sopranos 9.2\n",
      "The Wire 9.3\n",
      "Band of Brothers 9.5\n",
      "Game of Thrones 9.5\n",
      "Breaking Bad 9.5\n",
      "Better Call Saul 8.7\n",
      "The Walking Dead 8.5\n"
     ]
    }
   ],
   "source": [
    "for keys, values in tv_shows.items():\n",
    "    if (type(values)is dict):\n",
    "        for i, j in values.items():\n",
    "            print(i, j)\n",
    "    else:\n",
    "        print(values)"
   ]
  },
  {
   "cell_type": "code",
   "execution_count": 77,
   "metadata": {},
   "outputs": [],
   "source": [
    "#dictionary in dictionary in dictionary "
   ]
  },
  {
   "cell_type": "code",
   "execution_count": 1,
   "metadata": {},
   "outputs": [
    {
     "name": "stdout",
     "output_type": "stream",
     "text": [
      "Breaking Bad\n",
      "9.5\n"
     ]
    }
   ],
   "source": [
    "amc_tv_shows = {\"Breaking Bad\":9.5, \"Better Call Saul\":8.7, \"The Walking Dead\":8.5}\n",
    "if(input() == \"Breaking Bad\"):\n",
    "    print(amc_tv_shows.get(\"Breaking Bad\"))\n",
    "elif(input() == \"Better call Saul\"):\n",
    "    print(amc_tv_shows.get(\"Better call Saul\"))\n",
    "elif(input() == \"The Walking Dead\"):\n",
    "    print(amc_tv_shows.get(\"The Walking Dead\"))"
   ]
  },
  {
   "cell_type": "code",
   "execution_count": 4,
   "metadata": {},
   "outputs": [
    {
     "name": "stdout",
     "output_type": "stream",
     "text": [
      "The Walking Dead\n",
      "8.5\n"
     ]
    }
   ],
   "source": [
    "a = input()\n",
    "if(amc_tv_shows.get(a)):\n",
    "    print(amc_tv_shows.get(a))\n",
    "else:\n",
    "    print(\"No movie found\")"
   ]
  },
  {
   "cell_type": "code",
   "execution_count": 3,
   "metadata": {},
   "outputs": [
    {
     "name": "stdout",
     "output_type": "stream",
     "text": [
      "123\n",
      "123\n"
     ]
    }
   ],
   "source": []
  },
  {
   "cell_type": "code",
   "execution_count": null,
   "metadata": {},
   "outputs": [],
   "source": []
  }
 ],
 "metadata": {
  "kernelspec": {
   "display_name": "Python 3",
   "language": "python",
   "name": "python3"
  },
  "language_info": {
   "codemirror_mode": {
    "name": "ipython",
    "version": 3
   },
   "file_extension": ".py",
   "mimetype": "text/x-python",
   "name": "python",
   "nbconvert_exporter": "python",
   "pygments_lexer": "ipython3",
   "version": "3.6.7"
  }
 },
 "nbformat": 4,
 "nbformat_minor": 2
}
