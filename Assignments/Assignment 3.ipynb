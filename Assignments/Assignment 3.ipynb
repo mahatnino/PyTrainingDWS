{
 "cells": [
  {
   "cell_type": "markdown",
   "metadata": {},
   "source": [
    "Bank \n",
    "init : name, id\n",
    "method : balance add , withdraw, take loan , pay loan\n",
    "     "
   ]
  },
  {
   "cell_type": "code",
   "execution_count": 1,
   "metadata": {},
   "outputs": [],
   "source": [
    "#why use slef"
   ]
  },
  {
   "cell_type": "code",
   "execution_count": 5,
   "metadata": {},
   "outputs": [],
   "source": [
    "class Bank:\n",
    "    \"\"\" This is a Blue print of class Bank\n",
    "        This class is used to simple bank related transaction\n",
    "         methods: \n",
    "         ---------------\n",
    "         init -> This method take 3 parameters i.e self, name and cid\n",
    "                 name is the name of customer, cid is the id given to customer\n",
    "                 \n",
    "         deposit-> This method is used to deposit amount in the customers' account. \n",
    "                    It takes 2 parameters. Self and x, where x is the amount of money deposited\n",
    "    \"\"\"\n",
    "    def __init__(self, name , cid):\n",
    "        self.name = name\n",
    "        self.id = cid\n",
    "    def deposit(self, x):\n",
    "        pass\n",
    "    def withdraw(self, x):\n",
    "        pass\n",
    "    def takeloan(self, x):\n",
    "        pass\n",
    "    def payloan(self, x):\n",
    "        pass"
   ]
  },
  {
   "cell_type": "code",
   "execution_count": null,
   "metadata": {},
   "outputs": [],
   "source": []
  }
 ],
 "metadata": {
  "kernelspec": {
   "display_name": "Python 3",
   "language": "python",
   "name": "python3"
  },
  "language_info": {
   "codemirror_mode": {
    "name": "ipython",
    "version": 3
   },
   "file_extension": ".py",
   "mimetype": "text/x-python",
   "name": "python",
   "nbconvert_exporter": "python",
   "pygments_lexer": "ipython3",
   "version": "3.6.7"
  }
 },
 "nbformat": 4,
 "nbformat_minor": 2
}
