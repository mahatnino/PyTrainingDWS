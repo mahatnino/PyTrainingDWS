{
 "cells": [
  {
   "cell_type": "markdown",
   "metadata": {},
   "source": [
    "Bank \n",
    "init : name, id\n",
    "method : balance add , withdraw, take loan , pay loan\n",
    "     "
   ]
  },
  {
   "cell_type": "code",
   "execution_count": 24,
   "metadata": {},
   "outputs": [],
   "source": [
    "#why use self"
   ]
  },
  {
   "cell_type": "code",
   "execution_count": 22,
   "metadata": {},
   "outputs": [],
   "source": [
    "class Bank:\n",
    "    \"\"\" This is a Blue print of class Bank\n",
    "        This class is used to simple bank related transaction\n",
    "         methods: \n",
    "         ---------------\n",
    "         init -> This method take 3 parameters i.e self, name and cid\n",
    "                 name is the name of customer, cid is the id given to customer\n",
    "                 \n",
    "         deposit-> This method is used to deposit amount in the customers' account. \n",
    "                    It takes 2 parameters. Self and x, where x is the amount of money deposited\n",
    "                    \n",
    "         withdraw-> This method is used to withdraw amount from the customers' account.\n",
    "                    It takes 2 parameters. Self and x, where x is the amount of money withdrawn.\n",
    "                    \n",
    "         takeloan-> This method is used to take loan from the Bank.\n",
    "                    It takes 2 parameters. Self and x, where x is the amount of money taken as loan.\n",
    "                    \n",
    "         payloan-> This method is used to pay loan amount due to the Bank.\n",
    "                    It takes 2 parameters. Self and x, where x is the amount of money paid as loan payemnt to the bank.\n",
    "    \"\"\"\n",
    "    def __init__(self, name , cid):\n",
    "        self.name = name\n",
    "        self.id = cid\n",
    "    def deposit(self, x):\n",
    "        print(\"{0} has deposited ${1}\".format(self.name,x))\n",
    "    def withdraw(self, x):\n",
    "        print(\"{0} has withdrawn ${1}\".format(self.name,x))\n",
    "    def takeloan(self, x):\n",
    "        print(\"{0} has loan due ${1}\".format(self.name,x))\n",
    "    def payloan(self, x):\n",
    "        print(\"{0} has paid ${1} as loan payment\".format(self.name,x))"
   ]
  },
  {
   "cell_type": "code",
   "execution_count": 16,
   "metadata": {},
   "outputs": [],
   "source": [
    "tran1 = Bank(\"Subash\", \"c001\")\n",
    "tran2 = Bank(\"John\", \"c002\")\n",
    "tran3 = Bank(\"Mark\", \"c003\")\n",
    "tran4 = Bank(\"Mia\", \"c004\")"
   ]
  },
  {
   "cell_type": "code",
   "execution_count": 17,
   "metadata": {},
   "outputs": [
    {
     "name": "stdout",
     "output_type": "stream",
     "text": [
      "Subash has deposited $100\n",
      "John has deposited $200\n",
      "Mark has deposited $300\n",
      "Mia has deposited $400\n"
     ]
    }
   ],
   "source": [
    "tran1.deposit(100)\n",
    "tran2.deposit(200)\n",
    "tran3.deposit(300)\n",
    "tran4.deposit(400)"
   ]
  },
  {
   "cell_type": "code",
   "execution_count": 19,
   "metadata": {},
   "outputs": [
    {
     "name": "stdout",
     "output_type": "stream",
     "text": [
      "Subash has withdrawn $20\n",
      "John has withdrawn $30\n",
      "Mark has withdrawn $40\n",
      "Mia has withdrawn $50\n"
     ]
    }
   ],
   "source": [
    "tran1.withdraw(20)\n",
    "tran2.withdraw(30)\n",
    "tran3.withdraw(40)\n",
    "tran4.withdraw(50)"
   ]
  },
  {
   "cell_type": "code",
   "execution_count": 20,
   "metadata": {},
   "outputs": [
    {
     "name": "stdout",
     "output_type": "stream",
     "text": [
      "Subash has loan due $50\n",
      "John has loan due $60\n",
      "Mark has loan due $70\n",
      "Mia has loan due $80\n"
     ]
    }
   ],
   "source": [
    "tran1.takeloan(50)\n",
    "tran2.takeloan(60)\n",
    "tran3.takeloan(70)\n",
    "tran4.takeloan(80)"
   ]
  },
  {
   "cell_type": "code",
   "execution_count": 21,
   "metadata": {},
   "outputs": [
    {
     "name": "stdout",
     "output_type": "stream",
     "text": [
      "Subash has paid $10 as loan payment\n",
      "John has paid $11 as loan payment\n",
      "Mark has paid $12 as loan payment\n",
      "Mia has paid $13 as loan payment\n"
     ]
    }
   ],
   "source": [
    "tran1.payloan(10)\n",
    "tran2.payloan(11)\n",
    "tran3.payloan(12)\n",
    "tran4.payloan(13)"
   ]
  },
  {
   "cell_type": "code",
   "execution_count": 23,
   "metadata": {},
   "outputs": [
    {
     "data": {
      "text/plain": [
       "\" This is a Blue print of class Bank\\n        This class is used to simple bank related transaction\\n         methods: \\n         ---------------\\n         init -> This method take 3 parameters i.e self, name and cid\\n                 name is the name of customer, cid is the id given to customer\\n                 \\n         deposit-> This method is used to deposit amount in the customers' account. \\n                    It takes 2 parameters. Self and x, where x is the amount of money deposited\\n    \""
      ]
     },
     "execution_count": 23,
     "metadata": {},
     "output_type": "execute_result"
    }
   ],
   "source": [
    "tran1.__doc__"
   ]
  },
  {
   "cell_type": "code",
   "execution_count": null,
   "metadata": {},
   "outputs": [],
   "source": []
  }
 ],
 "metadata": {
  "kernelspec": {
   "display_name": "Python 3",
   "language": "python",
   "name": "python3"
  },
  "language_info": {
   "codemirror_mode": {
    "name": "ipython",
    "version": 3
   },
   "file_extension": ".py",
   "mimetype": "text/x-python",
   "name": "python",
   "nbconvert_exporter": "python",
   "pygments_lexer": "ipython3",
   "version": "3.6.7"
  }
 },
 "nbformat": 4,
 "nbformat_minor": 2
}
